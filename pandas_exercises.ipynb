{
 "cells": [
  {
   "cell_type": "markdown",
   "metadata": {
    "id": "1qwyd2qRB23Y"
   },
   "source": [
    "# Pandas Practice\n",
    "\n",
    "This notebook is dedicated to practicing different tasks with pandas. The solutions are available in a solutions notebook, however, you should always try to figure them out yourself first.\n",
    "\n",
    "It should be noted there may be more than one different way to answer a question or complete an exercise.\n",
    "\n",
    "Different tasks will be detailed by comments or text.\n",
    "\n",
    "For further reference and resources, it's advised to check out the [pandas documentation](https://pandas.pydata.org/pandas-docs/stable/).\n",
    "\n",
    "Prepared by:\n",
    "K Nanditha\n",
    "(DSC Research Head)"
   ]
  },
  {
   "cell_type": "code",
   "execution_count": 3,
   "metadata": {
    "id": "gpV1JnhfB23b"
   },
   "outputs": [],
   "source": [
    "# Import pandas\n",
    "import pandas as pd\n"
   ]
  },
  {
   "cell_type": "code",
   "execution_count": 4,
   "metadata": {
    "id": "I0DRwuxAB23c"
   },
   "outputs": [],
   "source": [
    "# Create a series of three different colours\n",
    "Series1=pd.Series([\"Red\",\"Black\",\"White\"])\n"
   ]
  },
  {
   "cell_type": "code",
   "execution_count": 5,
   "metadata": {
    "id": "rDI_Qah0B23d"
   },
   "outputs": [
    {
     "data": {
      "text/plain": [
       "0      Red\n",
       "1    Black\n",
       "2    White\n",
       "dtype: object"
      ]
     },
     "execution_count": 5,
     "metadata": {},
     "output_type": "execute_result"
    }
   ],
   "source": [
    "# View the series of different colours\n",
    "Series1"
   ]
  },
  {
   "cell_type": "code",
   "execution_count": 6,
   "metadata": {
    "id": "GVRD4q9yB23d"
   },
   "outputs": [],
   "source": [
    "# Create a series of three different house types and view it\n",
    "Series2=pd.Series([\"apartment\",\"duplex\",\"bungalow\"])"
   ]
  },
  {
   "cell_type": "code",
   "execution_count": 7,
   "metadata": {
    "id": "sEQ3gxGtB23d"
   },
   "outputs": [
    {
     "data": {
      "text/html": [
       "<div>\n",
       "<style scoped>\n",
       "    .dataframe tbody tr th:only-of-type {\n",
       "        vertical-align: middle;\n",
       "    }\n",
       "\n",
       "    .dataframe tbody tr th {\n",
       "        vertical-align: top;\n",
       "    }\n",
       "\n",
       "    .dataframe thead th {\n",
       "        text-align: right;\n",
       "    }\n",
       "</style>\n",
       "<table border=\"1\" class=\"dataframe\">\n",
       "  <thead>\n",
       "    <tr style=\"text-align: right;\">\n",
       "      <th></th>\n",
       "      <th>House</th>\n",
       "      <th>Color</th>\n",
       "    </tr>\n",
       "  </thead>\n",
       "  <tbody>\n",
       "    <tr>\n",
       "      <th>0</th>\n",
       "      <td>apartment</td>\n",
       "      <td>Red</td>\n",
       "    </tr>\n",
       "    <tr>\n",
       "      <th>1</th>\n",
       "      <td>duplex</td>\n",
       "      <td>Black</td>\n",
       "    </tr>\n",
       "    <tr>\n",
       "      <th>2</th>\n",
       "      <td>bungalow</td>\n",
       "      <td>White</td>\n",
       "    </tr>\n",
       "  </tbody>\n",
       "</table>\n",
       "</div>"
      ],
      "text/plain": [
       "       House  Color\n",
       "0  apartment    Red\n",
       "1     duplex  Black\n",
       "2   bungalow  White"
      ]
     },
     "execution_count": 7,
     "metadata": {},
     "output_type": "execute_result"
    }
   ],
   "source": [
    "# Combine the Series of house and colours into a DataFrame\n",
    "\n",
    "df1=pd.DataFrame({'House':Series2,\"Color\":Series1})\n",
    "\n",
    "df1"
   ]
  },
  {
   "cell_type": "code",
   "execution_count": 8,
   "metadata": {
    "id": "WAaghxC-B23d"
   },
   "outputs": [
    {
     "data": {
      "text/html": [
       "<div>\n",
       "<style scoped>\n",
       "    .dataframe tbody tr th:only-of-type {\n",
       "        vertical-align: middle;\n",
       "    }\n",
       "\n",
       "    .dataframe tbody tr th {\n",
       "        vertical-align: top;\n",
       "    }\n",
       "\n",
       "    .dataframe thead th {\n",
       "        text-align: right;\n",
       "    }\n",
       "</style>\n",
       "<table border=\"1\" class=\"dataframe\">\n",
       "  <thead>\n",
       "    <tr style=\"text-align: right;\">\n",
       "      <th></th>\n",
       "      <th>Type of house</th>\n",
       "      <th>Colour</th>\n",
       "      <th>Area (sqft)</th>\n",
       "      <th>Number of doors</th>\n",
       "      <th>Price</th>\n",
       "    </tr>\n",
       "  </thead>\n",
       "  <tbody>\n",
       "    <tr>\n",
       "      <th>0</th>\n",
       "      <td>apartment</td>\n",
       "      <td>White</td>\n",
       "      <td>1100</td>\n",
       "      <td>1</td>\n",
       "      <td>$4,000.00</td>\n",
       "    </tr>\n",
       "    <tr>\n",
       "      <th>1</th>\n",
       "      <td>Duplex</td>\n",
       "      <td>Red</td>\n",
       "      <td>502</td>\n",
       "      <td>2</td>\n",
       "      <td>$5,000.00</td>\n",
       "    </tr>\n",
       "    <tr>\n",
       "      <th>2</th>\n",
       "      <td>apartment</td>\n",
       "      <td>Blue</td>\n",
       "      <td>1225</td>\n",
       "      <td>2</td>\n",
       "      <td>$7,000.00</td>\n",
       "    </tr>\n",
       "    <tr>\n",
       "      <th>3</th>\n",
       "      <td>bungalow</td>\n",
       "      <td>Black</td>\n",
       "      <td>1500</td>\n",
       "      <td>4</td>\n",
       "      <td>$22,000.00</td>\n",
       "    </tr>\n",
       "    <tr>\n",
       "      <th>4</th>\n",
       "      <td>Farmhouse</td>\n",
       "      <td>White</td>\n",
       "      <td>2020</td>\n",
       "      <td>3</td>\n",
       "      <td>$3,500.00</td>\n",
       "    </tr>\n",
       "    <tr>\n",
       "      <th>5</th>\n",
       "      <td>apartment</td>\n",
       "      <td>Green</td>\n",
       "      <td>1115</td>\n",
       "      <td>1</td>\n",
       "      <td>$4,500.00</td>\n",
       "    </tr>\n",
       "    <tr>\n",
       "      <th>6</th>\n",
       "      <td>duplex</td>\n",
       "      <td>Blue</td>\n",
       "      <td>550</td>\n",
       "      <td>2</td>\n",
       "      <td>$7,500.00</td>\n",
       "    </tr>\n",
       "    <tr>\n",
       "      <th>7</th>\n",
       "      <td>duplex</td>\n",
       "      <td>Blue</td>\n",
       "      <td>530</td>\n",
       "      <td>2</td>\n",
       "      <td>$7,000.00</td>\n",
       "    </tr>\n",
       "    <tr>\n",
       "      <th>8</th>\n",
       "      <td>Apartment</td>\n",
       "      <td>White</td>\n",
       "      <td>1200</td>\n",
       "      <td>1</td>\n",
       "      <td>$6,250.00</td>\n",
       "    </tr>\n",
       "    <tr>\n",
       "      <th>9</th>\n",
       "      <td>farmhouse</td>\n",
       "      <td>White</td>\n",
       "      <td>2504</td>\n",
       "      <td>4</td>\n",
       "      <td>$9,700.00</td>\n",
       "    </tr>\n",
       "  </tbody>\n",
       "</table>\n",
       "</div>"
      ],
      "text/plain": [
       "  Type of house Colour  Area (sqft)  Number of doors       Price\n",
       "0     apartment  White         1100                1   $4,000.00\n",
       "1        Duplex    Red          502                2   $5,000.00\n",
       "2     apartment   Blue         1225                2   $7,000.00\n",
       "3      bungalow  Black         1500                4  $22,000.00\n",
       "4     Farmhouse  White         2020                3   $3,500.00\n",
       "5     apartment  Green         1115                1   $4,500.00\n",
       "6        duplex   Blue          550                2   $7,500.00\n",
       "7        duplex   Blue          530                2   $7,000.00\n",
       "8     Apartment  White         1200                1   $6,250.00\n",
       "9     farmhouse  White         2504                4   $9,700.00"
      ]
     },
     "execution_count": 8,
     "metadata": {},
     "output_type": "execute_result"
    }
   ],
   "source": [
    "# Import \"../house-sales.csv\" and turn it into a DataFrame\n",
    "data=pd.read_csv('house-sales.csv')\n",
    "df1=pd.DataFrame(data)\n",
    "df1"
   ]
  },
  {
   "cell_type": "markdown",
   "metadata": {
    "id": "p1yX0unfB23d"
   },
   "source": [
    "**Note:** Since you've imported `./house-sales.csv` as a DataFrame, we'll now refer to this DataFrame as 'the house sales DataFrame'."
   ]
  },
  {
   "cell_type": "code",
   "execution_count": 9,
   "metadata": {
    "id": "kI_ZtcqAB23e"
   },
   "outputs": [],
   "source": [
    "# Export the DataFrame you created to a .csv file\n",
    "df1.to_csv('house_colors.csv', index=False)"
   ]
  },
  {
   "cell_type": "code",
   "execution_count": 10,
   "metadata": {
    "id": "EJpkRJAKB23e"
   },
   "outputs": [
    {
     "data": {
      "text/plain": [
       "Type of house      object\n",
       "Colour             object\n",
       "Area (sqft)         int64\n",
       "Number of doors     int64\n",
       "Price              object\n",
       "dtype: object"
      ]
     },
     "execution_count": 10,
     "metadata": {},
     "output_type": "execute_result"
    }
   ],
   "source": [
    "# Find the different datatypes of the house data DataFrame\n",
    "df1.dtypes"
   ]
  },
  {
   "cell_type": "code",
   "execution_count": 11,
   "metadata": {
    "id": "xdTAboGQB23e"
   },
   "outputs": [
    {
     "data": {
      "text/html": [
       "<div>\n",
       "<style scoped>\n",
       "    .dataframe tbody tr th:only-of-type {\n",
       "        vertical-align: middle;\n",
       "    }\n",
       "\n",
       "    .dataframe tbody tr th {\n",
       "        vertical-align: top;\n",
       "    }\n",
       "\n",
       "    .dataframe thead th {\n",
       "        text-align: right;\n",
       "    }\n",
       "</style>\n",
       "<table border=\"1\" class=\"dataframe\">\n",
       "  <thead>\n",
       "    <tr style=\"text-align: right;\">\n",
       "      <th></th>\n",
       "      <th>Area (sqft)</th>\n",
       "      <th>Number of doors</th>\n",
       "    </tr>\n",
       "  </thead>\n",
       "  <tbody>\n",
       "    <tr>\n",
       "      <th>count</th>\n",
       "      <td>10.000000</td>\n",
       "      <td>10.000000</td>\n",
       "    </tr>\n",
       "    <tr>\n",
       "      <th>mean</th>\n",
       "      <td>1224.600000</td>\n",
       "      <td>2.200000</td>\n",
       "    </tr>\n",
       "    <tr>\n",
       "      <th>std</th>\n",
       "      <td>652.620223</td>\n",
       "      <td>1.135292</td>\n",
       "    </tr>\n",
       "    <tr>\n",
       "      <th>min</th>\n",
       "      <td>502.000000</td>\n",
       "      <td>1.000000</td>\n",
       "    </tr>\n",
       "    <tr>\n",
       "      <th>25%</th>\n",
       "      <td>687.500000</td>\n",
       "      <td>1.250000</td>\n",
       "    </tr>\n",
       "    <tr>\n",
       "      <th>50%</th>\n",
       "      <td>1157.500000</td>\n",
       "      <td>2.000000</td>\n",
       "    </tr>\n",
       "    <tr>\n",
       "      <th>75%</th>\n",
       "      <td>1431.250000</td>\n",
       "      <td>2.750000</td>\n",
       "    </tr>\n",
       "    <tr>\n",
       "      <th>max</th>\n",
       "      <td>2504.000000</td>\n",
       "      <td>4.000000</td>\n",
       "    </tr>\n",
       "  </tbody>\n",
       "</table>\n",
       "</div>"
      ],
      "text/plain": [
       "       Area (sqft)  Number of doors\n",
       "count    10.000000        10.000000\n",
       "mean   1224.600000         2.200000\n",
       "std     652.620223         1.135292\n",
       "min     502.000000         1.000000\n",
       "25%     687.500000         1.250000\n",
       "50%    1157.500000         2.000000\n",
       "75%    1431.250000         2.750000\n",
       "max    2504.000000         4.000000"
      ]
     },
     "execution_count": 11,
     "metadata": {},
     "output_type": "execute_result"
    }
   ],
   "source": [
    "# Describe your current house sales DataFrame using describe()\n",
    "df1.describe()"
   ]
  },
  {
   "cell_type": "code",
   "execution_count": 12,
   "metadata": {
    "id": "JCSI_66mB23e",
    "scrolled": true
   },
   "outputs": [
    {
     "name": "stdout",
     "output_type": "stream",
     "text": [
      "<class 'pandas.core.frame.DataFrame'>\n",
      "RangeIndex: 10 entries, 0 to 9\n",
      "Data columns (total 5 columns):\n",
      " #   Column           Non-Null Count  Dtype \n",
      "---  ------           --------------  ----- \n",
      " 0   Type of house    10 non-null     object\n",
      " 1   Colour           10 non-null     object\n",
      " 2   Area (sqft)      10 non-null     int64 \n",
      " 3   Number of doors  10 non-null     int64 \n",
      " 4   Price            10 non-null     object\n",
      "dtypes: int64(2), object(3)\n",
      "memory usage: 528.0+ bytes\n"
     ]
    }
   ],
   "source": [
    "# Get information about your DataFrame using info()\n",
    "df1.info()"
   ]
  },
  {
   "cell_type": "markdown",
   "metadata": {
    "id": "04Bp0u-BB23f"
   },
   "source": [
    "What does it show you?"
   ]
  },
  {
   "cell_type": "code",
   "execution_count": 14,
   "metadata": {
    "id": "bTwVB_24B23f"
   },
   "outputs": [
    {
     "name": "stdout",
     "output_type": "stream",
     "text": [
      "3.0\n"
     ]
    }
   ],
   "source": [
    "# Create a Series of different numbers and find the mean of them\n",
    "numSeries1=pd.Series([1,2,3,4,5])\n",
    "mean1=numSeries1.mean()\n",
    "print(mean1)"
   ]
  },
  {
   "cell_type": "code",
   "execution_count": 15,
   "metadata": {
    "id": "juIsZ2QPB23f"
   },
   "outputs": [
    {
     "name": "stdout",
     "output_type": "stream",
     "text": [
      "6\n"
     ]
    }
   ],
   "source": [
    "# Create a Series of different numbers and find the sum of them\n",
    "numSeries2=pd.Series([1,2,3])\n",
    "print(numSeries2.sum())\n"
   ]
  },
  {
   "cell_type": "code",
   "execution_count": 17,
   "metadata": {
    "id": "lWtbDBMRB23f"
   },
   "outputs": [
    {
     "data": {
      "text/plain": [
       "Index(['Type of house', 'Colour', 'Area (sqft)', 'Number of doors', 'Price'], dtype='object')"
      ]
     },
     "execution_count": 17,
     "metadata": {},
     "output_type": "execute_result"
    }
   ],
   "source": [
    "# List out all the column names of the house sales DataFrame\n",
    "df1.columns"
   ]
  },
  {
   "cell_type": "code",
   "execution_count": 20,
   "metadata": {
    "id": "NzX0tBh6B23f"
   },
   "outputs": [
    {
     "name": "stdout",
     "output_type": "stream",
     "text": [
      "10\n"
     ]
    }
   ],
   "source": [
    "# Find the length of the house sales DataFrame\n",
    "print(len(df1))"
   ]
  },
  {
   "cell_type": "code",
   "execution_count": 21,
   "metadata": {
    "id": "sYnvurrFB23f"
   },
   "outputs": [
    {
     "data": {
      "text/html": [
       "<div>\n",
       "<style scoped>\n",
       "    .dataframe tbody tr th:only-of-type {\n",
       "        vertical-align: middle;\n",
       "    }\n",
       "\n",
       "    .dataframe tbody tr th {\n",
       "        vertical-align: top;\n",
       "    }\n",
       "\n",
       "    .dataframe thead th {\n",
       "        text-align: right;\n",
       "    }\n",
       "</style>\n",
       "<table border=\"1\" class=\"dataframe\">\n",
       "  <thead>\n",
       "    <tr style=\"text-align: right;\">\n",
       "      <th></th>\n",
       "      <th>Type of house</th>\n",
       "      <th>Colour</th>\n",
       "      <th>Area (sqft)</th>\n",
       "      <th>Number of doors</th>\n",
       "      <th>Price</th>\n",
       "    </tr>\n",
       "  </thead>\n",
       "  <tbody>\n",
       "    <tr>\n",
       "      <th>0</th>\n",
       "      <td>apartment</td>\n",
       "      <td>White</td>\n",
       "      <td>1100</td>\n",
       "      <td>1</td>\n",
       "      <td>$4,000.00</td>\n",
       "    </tr>\n",
       "    <tr>\n",
       "      <th>1</th>\n",
       "      <td>Duplex</td>\n",
       "      <td>Red</td>\n",
       "      <td>502</td>\n",
       "      <td>2</td>\n",
       "      <td>$5,000.00</td>\n",
       "    </tr>\n",
       "    <tr>\n",
       "      <th>2</th>\n",
       "      <td>apartment</td>\n",
       "      <td>Blue</td>\n",
       "      <td>1225</td>\n",
       "      <td>2</td>\n",
       "      <td>$7,000.00</td>\n",
       "    </tr>\n",
       "    <tr>\n",
       "      <th>3</th>\n",
       "      <td>bungalow</td>\n",
       "      <td>Black</td>\n",
       "      <td>1500</td>\n",
       "      <td>4</td>\n",
       "      <td>$22,000.00</td>\n",
       "    </tr>\n",
       "    <tr>\n",
       "      <th>4</th>\n",
       "      <td>Farmhouse</td>\n",
       "      <td>White</td>\n",
       "      <td>2020</td>\n",
       "      <td>3</td>\n",
       "      <td>$3,500.00</td>\n",
       "    </tr>\n",
       "  </tbody>\n",
       "</table>\n",
       "</div>"
      ],
      "text/plain": [
       "  Type of house Colour  Area (sqft)  Number of doors       Price\n",
       "0     apartment  White         1100                1   $4,000.00\n",
       "1        Duplex    Red          502                2   $5,000.00\n",
       "2     apartment   Blue         1225                2   $7,000.00\n",
       "3      bungalow  Black         1500                4  $22,000.00\n",
       "4     Farmhouse  White         2020                3   $3,500.00"
      ]
     },
     "execution_count": 21,
     "metadata": {},
     "output_type": "execute_result"
    }
   ],
   "source": [
    "# Show the first 5 rows of the house sales DataFrame\n",
    "df1.head(5)"
   ]
  },
  {
   "cell_type": "code",
   "execution_count": 22,
   "metadata": {
    "id": "t70bI1bNB23f"
   },
   "outputs": [
    {
     "data": {
      "text/html": [
       "<div>\n",
       "<style scoped>\n",
       "    .dataframe tbody tr th:only-of-type {\n",
       "        vertical-align: middle;\n",
       "    }\n",
       "\n",
       "    .dataframe tbody tr th {\n",
       "        vertical-align: top;\n",
       "    }\n",
       "\n",
       "    .dataframe thead th {\n",
       "        text-align: right;\n",
       "    }\n",
       "</style>\n",
       "<table border=\"1\" class=\"dataframe\">\n",
       "  <thead>\n",
       "    <tr style=\"text-align: right;\">\n",
       "      <th></th>\n",
       "      <th>Type of house</th>\n",
       "      <th>Colour</th>\n",
       "      <th>Area (sqft)</th>\n",
       "      <th>Number of doors</th>\n",
       "      <th>Price</th>\n",
       "    </tr>\n",
       "  </thead>\n",
       "  <tbody>\n",
       "    <tr>\n",
       "      <th>0</th>\n",
       "      <td>apartment</td>\n",
       "      <td>White</td>\n",
       "      <td>1100</td>\n",
       "      <td>1</td>\n",
       "      <td>$4,000.00</td>\n",
       "    </tr>\n",
       "    <tr>\n",
       "      <th>1</th>\n",
       "      <td>Duplex</td>\n",
       "      <td>Red</td>\n",
       "      <td>502</td>\n",
       "      <td>2</td>\n",
       "      <td>$5,000.00</td>\n",
       "    </tr>\n",
       "    <tr>\n",
       "      <th>2</th>\n",
       "      <td>apartment</td>\n",
       "      <td>Blue</td>\n",
       "      <td>1225</td>\n",
       "      <td>2</td>\n",
       "      <td>$7,000.00</td>\n",
       "    </tr>\n",
       "    <tr>\n",
       "      <th>3</th>\n",
       "      <td>bungalow</td>\n",
       "      <td>Black</td>\n",
       "      <td>1500</td>\n",
       "      <td>4</td>\n",
       "      <td>$22,000.00</td>\n",
       "    </tr>\n",
       "    <tr>\n",
       "      <th>4</th>\n",
       "      <td>Farmhouse</td>\n",
       "      <td>White</td>\n",
       "      <td>2020</td>\n",
       "      <td>3</td>\n",
       "      <td>$3,500.00</td>\n",
       "    </tr>\n",
       "    <tr>\n",
       "      <th>5</th>\n",
       "      <td>apartment</td>\n",
       "      <td>Green</td>\n",
       "      <td>1115</td>\n",
       "      <td>1</td>\n",
       "      <td>$4,500.00</td>\n",
       "    </tr>\n",
       "    <tr>\n",
       "      <th>6</th>\n",
       "      <td>duplex</td>\n",
       "      <td>Blue</td>\n",
       "      <td>550</td>\n",
       "      <td>2</td>\n",
       "      <td>$7,500.00</td>\n",
       "    </tr>\n",
       "  </tbody>\n",
       "</table>\n",
       "</div>"
      ],
      "text/plain": [
       "  Type of house Colour  Area (sqft)  Number of doors       Price\n",
       "0     apartment  White         1100                1   $4,000.00\n",
       "1        Duplex    Red          502                2   $5,000.00\n",
       "2     apartment   Blue         1225                2   $7,000.00\n",
       "3      bungalow  Black         1500                4  $22,000.00\n",
       "4     Farmhouse  White         2020                3   $3,500.00\n",
       "5     apartment  Green         1115                1   $4,500.00\n",
       "6        duplex   Blue          550                2   $7,500.00"
      ]
     },
     "execution_count": 22,
     "metadata": {},
     "output_type": "execute_result"
    }
   ],
   "source": [
    "# Show the first 7 rows of the house sales DataFrame\n",
    "df1.head(7)"
   ]
  },
  {
   "cell_type": "code",
   "execution_count": 23,
   "metadata": {
    "id": "DlHtK02qB23g"
   },
   "outputs": [
    {
     "data": {
      "text/html": [
       "<div>\n",
       "<style scoped>\n",
       "    .dataframe tbody tr th:only-of-type {\n",
       "        vertical-align: middle;\n",
       "    }\n",
       "\n",
       "    .dataframe tbody tr th {\n",
       "        vertical-align: top;\n",
       "    }\n",
       "\n",
       "    .dataframe thead th {\n",
       "        text-align: right;\n",
       "    }\n",
       "</style>\n",
       "<table border=\"1\" class=\"dataframe\">\n",
       "  <thead>\n",
       "    <tr style=\"text-align: right;\">\n",
       "      <th></th>\n",
       "      <th>Type of house</th>\n",
       "      <th>Colour</th>\n",
       "      <th>Area (sqft)</th>\n",
       "      <th>Number of doors</th>\n",
       "      <th>Price</th>\n",
       "    </tr>\n",
       "  </thead>\n",
       "  <tbody>\n",
       "    <tr>\n",
       "      <th>5</th>\n",
       "      <td>apartment</td>\n",
       "      <td>Green</td>\n",
       "      <td>1115</td>\n",
       "      <td>1</td>\n",
       "      <td>$4,500.00</td>\n",
       "    </tr>\n",
       "    <tr>\n",
       "      <th>6</th>\n",
       "      <td>duplex</td>\n",
       "      <td>Blue</td>\n",
       "      <td>550</td>\n",
       "      <td>2</td>\n",
       "      <td>$7,500.00</td>\n",
       "    </tr>\n",
       "    <tr>\n",
       "      <th>7</th>\n",
       "      <td>duplex</td>\n",
       "      <td>Blue</td>\n",
       "      <td>530</td>\n",
       "      <td>2</td>\n",
       "      <td>$7,000.00</td>\n",
       "    </tr>\n",
       "    <tr>\n",
       "      <th>8</th>\n",
       "      <td>Apartment</td>\n",
       "      <td>White</td>\n",
       "      <td>1200</td>\n",
       "      <td>1</td>\n",
       "      <td>$6,250.00</td>\n",
       "    </tr>\n",
       "    <tr>\n",
       "      <th>9</th>\n",
       "      <td>farmhouse</td>\n",
       "      <td>White</td>\n",
       "      <td>2504</td>\n",
       "      <td>4</td>\n",
       "      <td>$9,700.00</td>\n",
       "    </tr>\n",
       "  </tbody>\n",
       "</table>\n",
       "</div>"
      ],
      "text/plain": [
       "  Type of house Colour  Area (sqft)  Number of doors      Price\n",
       "5     apartment  Green         1115                1  $4,500.00\n",
       "6        duplex   Blue          550                2  $7,500.00\n",
       "7        duplex   Blue          530                2  $7,000.00\n",
       "8     Apartment  White         1200                1  $6,250.00\n",
       "9     farmhouse  White         2504                4  $9,700.00"
      ]
     },
     "execution_count": 23,
     "metadata": {},
     "output_type": "execute_result"
    }
   ],
   "source": [
    "# Show the bottom 5 rows of the house sales DataFrame\n",
    "df1.tail(5)"
   ]
  },
  {
   "cell_type": "code",
   "execution_count": 25,
   "metadata": {
    "id": "yk128F9VB23g"
   },
   "outputs": [
    {
     "data": {
      "text/plain": [
       "Type of house        bungalow\n",
       "Colour                  Black\n",
       "Area (sqft)              1500\n",
       "Number of doors             4\n",
       "Price              $22,000.00\n",
       "Name: 3, dtype: object"
      ]
     },
     "execution_count": 25,
     "metadata": {},
     "output_type": "execute_result"
    }
   ],
   "source": [
    "# Use .loc to select the row at index 3 of the house sales DataFrame\n",
    "df1.loc[3]"
   ]
  },
  {
   "cell_type": "code",
   "execution_count": 26,
   "metadata": {
    "id": "cC_Vtx4CB23g"
   },
   "outputs": [
    {
     "data": {
      "text/plain": [
       "Type of house        bungalow\n",
       "Colour                  Black\n",
       "Area (sqft)              1500\n",
       "Number of doors             4\n",
       "Price              $22,000.00\n",
       "Name: 3, dtype: object"
      ]
     },
     "execution_count": 26,
     "metadata": {},
     "output_type": "execute_result"
    }
   ],
   "source": [
    "# Use .iloc to select the row at position 3 of the house sales DataFrame\n",
    "df1.iloc[3]"
   ]
  },
  {
   "cell_type": "markdown",
   "metadata": {
    "id": "zUdlyQIHB23g"
   },
   "source": [
    "Notice how they're the same? Why do you think this is?\n",
    "\n",
    "Check the pandas documentation for [.loc](https://pandas.pydata.org/pandas-docs/stable/reference/api/pandas.DataFrame.loc.html) and [.iloc](https://pandas.pydata.org/pandas-docs/stable/reference/api/pandas.DataFrame.iloc.html). Think about a different situation each could be used for and try them out."
   ]
  },
  {
   "cell_type": "code",
   "execution_count": 29,
   "metadata": {
    "id": "CzjvXm-oB23g"
   },
   "outputs": [
    {
     "data": {
      "text/plain": [
       "0    1100\n",
       "1     502\n",
       "2    1225\n",
       "3    1500\n",
       "4    2020\n",
       "5    1115\n",
       "6     550\n",
       "7     530\n",
       "8    1200\n",
       "9    2504\n",
       "Name: Area (sqft), dtype: int64"
      ]
     },
     "execution_count": 29,
     "metadata": {},
     "output_type": "execute_result"
    }
   ],
   "source": [
    "# Select the \"Area (sqft)\" column from the house sales DataFrame\n",
    "area=df1['Area (sqft)']\n",
    "area"
   ]
  },
  {
   "cell_type": "code",
   "execution_count": 30,
   "metadata": {
    "id": "X66DjuaeB23g"
   },
   "outputs": [
    {
     "name": "stdout",
     "output_type": "stream",
     "text": [
      "1224.6\n"
     ]
    }
   ],
   "source": [
    "# Find the mean of the \"Area (sqft)\" column in the house sales DataFrame\n",
    "print(area.mean())"
   ]
  },
  {
   "cell_type": "code",
   "execution_count": 35,
   "metadata": {
    "id": "GZV7fkgjB23g"
   },
   "outputs": [
    {
     "name": "stdout",
     "output_type": "stream",
     "text": [
      "  Type of house Colour  Area (sqft)  Number of doors       Price\n",
      "0     apartment  White         1100                1   $4,000.00\n",
      "2     apartment   Blue         1225                2   $7,000.00\n",
      "3      bungalow  Black         1500                4  $22,000.00\n",
      "4     Farmhouse  White         2020                3   $3,500.00\n",
      "5     apartment  Green         1115                1   $4,500.00\n",
      "8     Apartment  White         1200                1   $6,250.00\n",
      "9     farmhouse  White         2504                4   $9,700.00\n"
     ]
    }
   ],
   "source": [
    "# Select the rows with over 1000 sqft\n",
    "selected_rows = df1[df1['Area (sqft)'] > 1000]\n",
    "print(selected_rows)\n"
   ]
  },
  {
   "cell_type": "code",
   "execution_count": 37,
   "metadata": {
    "id": "PKkPPwHEB23g"
   },
   "outputs": [
    {
     "name": "stdout",
     "output_type": "stream",
     "text": [
      "Number of doors  1  2  3  4\n",
      "Type of house              \n",
      "Apartment        1  0  0  0\n",
      "Duplex           0  1  0  0\n",
      "Farmhouse        0  0  1  0\n",
      "apartment        2  1  0  0\n",
      "bungalow         0  0  0  1\n",
      "duplex           0  2  0  0\n",
      "farmhouse        0  0  0  1\n"
     ]
    }
   ],
   "source": [
    "# Create a crosstab of the type of house and number of doors\n",
    "\n",
    "crosstab_table = pd.crosstab(df1['Type of house'], df1['Number of doors'])\n",
    "print(crosstab_table)\n"
   ]
  },
  {
   "cell_type": "code",
   "execution_count": 38,
   "metadata": {
    "id": "PfhYA6q1B23h"
   },
   "outputs": [
    {
     "name": "stdout",
     "output_type": "stream",
     "text": [
      "               Area (sqft)  Number of doors\n",
      "Type of house                              \n",
      "Apartment      1200.000000         1.000000\n",
      "Duplex          502.000000         2.000000\n",
      "Farmhouse      2020.000000         3.000000\n",
      "apartment      1146.666667         1.333333\n",
      "bungalow       1500.000000         4.000000\n",
      "duplex          540.000000         2.000000\n",
      "farmhouse      2504.000000         4.000000\n"
     ]
    }
   ],
   "source": [
    "# Group columns of the house sales DataFrame by the type of house column and find the average\n",
    "averages = df1.groupby('Type of house').mean()\n",
    "print(averages)\n"
   ]
  },
  {
   "cell_type": "code",
   "execution_count": 44,
   "metadata": {
    "id": "oPkm39n1B23h"
   },
   "outputs": [
    {
     "data": {
      "image/png": "[encoded data removed]",
      "text/plain": [
       "<Figure size 640x480 with 1 Axes>"
      ]
     },
     "metadata": {},
     "output_type": "display_data"
    }
   ],
   "source": [
    "# Import Matplotlib and create a plot of the area column\n",
    "# Don't forget to use %matplotlib inline\n",
    "import matplotlib.pyplot as plt\n",
    "%matplotlib inline\n",
    "df1['Area (sqft)'].plot(kind='hist')\n",
    "plt.xlabel('Area')\n",
    "plt.ylabel('Frequency')\n",
    "plt.title('Distribution of House Area')\n",
    "plt.show()\n",
    "\n"
   ]
  },
  {
   "cell_type": "code",
   "execution_count": 45,
   "metadata": {
    "id": "qfdRtEE9B23h"
   },
   "outputs": [
    {
     "data": {
      "image/png": "[encoded data removed]",
      "text/plain": [
       "<Figure size 640x480 with 1 Axes>"
      ]
     },
     "metadata": {},
     "output_type": "display_data"
    }
   ],
   "source": [
    "# Create a histogram of the area column using hist()\n",
    "plt.hist(df1['Area (sqft)'])\n",
    "plt.xlabel('Area')\n",
    "plt.ylabel('Frequency')\n",
    "plt.title('Distribution of House Area')\n",
    "plt.show()\n"
   ]
  },
  {
   "cell_type": "code",
   "execution_count": 46,
   "metadata": {
    "id": "RMnE6VRPB23h"
   },
   "outputs": [
    {
     "ename": "TypeError",
     "evalue": "no numeric data to plot",
     "output_type": "error",
     "traceback": [
      "\u001b[1;31m---------------------------------------------------------------------------\u001b[0m",
      "\u001b[1;31mTypeError\u001b[0m                                 Traceback (most recent call last)",
      "\u001b[1;32m~\\AppData\\Local\\Temp\\ipykernel_908\\4055663367.py\u001b[0m in \u001b[0;36m<module>\u001b[1;34m\u001b[0m\n\u001b[0;32m      1\u001b[0m \u001b[1;31m# Try to plot the Price column using plot()\u001b[0m\u001b[1;33m\u001b[0m\u001b[1;33m\u001b[0m\u001b[0m\n\u001b[1;32m----> 2\u001b[1;33m \u001b[0mdf1\u001b[0m\u001b[1;33m[\u001b[0m\u001b[1;34m'Price'\u001b[0m\u001b[1;33m]\u001b[0m\u001b[1;33m.\u001b[0m\u001b[0mplot\u001b[0m\u001b[1;33m(\u001b[0m\u001b[0mkind\u001b[0m\u001b[1;33m=\u001b[0m\u001b[1;34m'hist'\u001b[0m\u001b[1;33m)\u001b[0m\u001b[1;33m\u001b[0m\u001b[1;33m\u001b[0m\u001b[0m\n\u001b[0m\u001b[0;32m      3\u001b[0m \u001b[0mplt\u001b[0m\u001b[1;33m.\u001b[0m\u001b[0mxlabel\u001b[0m\u001b[1;33m(\u001b[0m\u001b[1;34m'Area'\u001b[0m\u001b[1;33m)\u001b[0m\u001b[1;33m\u001b[0m\u001b[1;33m\u001b[0m\u001b[0m\n\u001b[0;32m      4\u001b[0m \u001b[0mplt\u001b[0m\u001b[1;33m.\u001b[0m\u001b[0mylabel\u001b[0m\u001b[1;33m(\u001b[0m\u001b[1;34m'Frequency'\u001b[0m\u001b[1;33m)\u001b[0m\u001b[1;33m\u001b[0m\u001b[1;33m\u001b[0m\u001b[0m\n\u001b[0;32m      5\u001b[0m \u001b[0mplt\u001b[0m\u001b[1;33m.\u001b[0m\u001b[0mtitle\u001b[0m\u001b[1;33m(\u001b[0m\u001b[1;34m'Distribution of House Area'\u001b[0m\u001b[1;33m)\u001b[0m\u001b[1;33m\u001b[0m\u001b[1;33m\u001b[0m\u001b[0m\n",
      "\u001b[1;32m~\\anaconda3\\lib\\site-packages\\pandas\\plotting\\_core.py\u001b[0m in \u001b[0;36m__call__\u001b[1;34m(self, *args, **kwargs)\u001b[0m\n\u001b[0;32m    970\u001b[0m                     \u001b[0mdata\u001b[0m\u001b[1;33m.\u001b[0m\u001b[0mcolumns\u001b[0m \u001b[1;33m=\u001b[0m \u001b[0mlabel_name\u001b[0m\u001b[1;33m\u001b[0m\u001b[1;33m\u001b[0m\u001b[0m\n\u001b[0;32m    971\u001b[0m \u001b[1;33m\u001b[0m\u001b[0m\n\u001b[1;32m--> 972\u001b[1;33m         \u001b[1;32mreturn\u001b[0m \u001b[0mplot_backend\u001b[0m\u001b[1;33m.\u001b[0m\u001b[0mplot\u001b[0m\u001b[1;33m(\u001b[0m\u001b[0mdata\u001b[0m\u001b[1;33m,\u001b[0m \u001b[0mkind\u001b[0m\u001b[1;33m=\u001b[0m\u001b[0mkind\u001b[0m\u001b[1;33m,\u001b[0m \u001b[1;33m**\u001b[0m\u001b[0mkwargs\u001b[0m\u001b[1;33m)\u001b[0m\u001b[1;33m\u001b[0m\u001b[1;33m\u001b[0m\u001b[0m\n\u001b[0m\u001b[0;32m    973\u001b[0m \u001b[1;33m\u001b[0m\u001b[0m\n\u001b[0;32m    974\u001b[0m     \u001b[0m__call__\u001b[0m\u001b[1;33m.\u001b[0m\u001b[0m__doc__\u001b[0m \u001b[1;33m=\u001b[0m \u001b[0m__doc__\u001b[0m\u001b[1;33m\u001b[0m\u001b[1;33m\u001b[0m\u001b[0m\n",
      "\u001b[1;32m~\\anaconda3\\lib\\site-packages\\pandas\\plotting\\_matplotlib\\__init__.py\u001b[0m in \u001b[0;36mplot\u001b[1;34m(data, kind, **kwargs)\u001b[0m\n\u001b[0;32m     69\u001b[0m             \u001b[0mkwargs\u001b[0m\u001b[1;33m[\u001b[0m\u001b[1;34m\"ax\"\u001b[0m\u001b[1;33m]\u001b[0m \u001b[1;33m=\u001b[0m \u001b[0mgetattr\u001b[0m\u001b[1;33m(\u001b[0m\u001b[0max\u001b[0m\u001b[1;33m,\u001b[0m \u001b[1;34m\"left_ax\"\u001b[0m\u001b[1;33m,\u001b[0m \u001b[0max\u001b[0m\u001b[1;33m)\u001b[0m\u001b[1;33m\u001b[0m\u001b[1;33m\u001b[0m\u001b[0m\n\u001b[0;32m     70\u001b[0m     \u001b[0mplot_obj\u001b[0m \u001b[1;33m=\u001b[0m \u001b[0mPLOT_CLASSES\u001b[0m\u001b[1;33m[\u001b[0m\u001b[0mkind\u001b[0m\u001b[1;33m]\u001b[0m\u001b[1;33m(\u001b[0m\u001b[0mdata\u001b[0m\u001b[1;33m,\u001b[0m \u001b[1;33m**\u001b[0m\u001b[0mkwargs\u001b[0m\u001b[1;33m)\u001b[0m\u001b[1;33m\u001b[0m\u001b[1;33m\u001b[0m\u001b[0m\n\u001b[1;32m---> 71\u001b[1;33m     \u001b[0mplot_obj\u001b[0m\u001b[1;33m.\u001b[0m\u001b[0mgenerate\u001b[0m\u001b[1;33m(\u001b[0m\u001b[1;33m)\u001b[0m\u001b[1;33m\u001b[0m\u001b[1;33m\u001b[0m\u001b[0m\n\u001b[0m\u001b[0;32m     72\u001b[0m     \u001b[0mplot_obj\u001b[0m\u001b[1;33m.\u001b[0m\u001b[0mdraw\u001b[0m\u001b[1;33m(\u001b[0m\u001b[1;33m)\u001b[0m\u001b[1;33m\u001b[0m\u001b[1;33m\u001b[0m\u001b[0m\n\u001b[0;32m     73\u001b[0m     \u001b[1;32mreturn\u001b[0m \u001b[0mplot_obj\u001b[0m\u001b[1;33m.\u001b[0m\u001b[0mresult\u001b[0m\u001b[1;33m\u001b[0m\u001b[1;33m\u001b[0m\u001b[0m\n",
      "\u001b[1;32m~\\anaconda3\\lib\\site-packages\\pandas\\plotting\\_matplotlib\\core.py\u001b[0m in \u001b[0;36mgenerate\u001b[1;34m(self)\u001b[0m\n\u001b[0;32m    325\u001b[0m     \u001b[1;32mdef\u001b[0m \u001b[0mgenerate\u001b[0m\u001b[1;33m(\u001b[0m\u001b[0mself\u001b[0m\u001b[1;33m)\u001b[0m\u001b[1;33m:\u001b[0m\u001b[1;33m\u001b[0m\u001b[1;33m\u001b[0m\u001b[0m\n\u001b[0;32m    326\u001b[0m         \u001b[0mself\u001b[0m\u001b[1;33m.\u001b[0m\u001b[0m_args_adjust\u001b[0m\u001b[1;33m(\u001b[0m\u001b[1;33m)\u001b[0m\u001b[1;33m\u001b[0m\u001b[1;33m\u001b[0m\u001b[0m\n\u001b[1;32m--> 327\u001b[1;33m         \u001b[0mself\u001b[0m\u001b[1;33m.\u001b[0m\u001b[0m_compute_plot_data\u001b[0m\u001b[1;33m(\u001b[0m\u001b[1;33m)\u001b[0m\u001b[1;33m\u001b[0m\u001b[1;33m\u001b[0m\u001b[0m\n\u001b[0m\u001b[0;32m    328\u001b[0m         \u001b[0mself\u001b[0m\u001b[1;33m.\u001b[0m\u001b[0m_setup_subplots\u001b[0m\u001b[1;33m(\u001b[0m\u001b[1;33m)\u001b[0m\u001b[1;33m\u001b[0m\u001b[1;33m\u001b[0m\u001b[0m\n\u001b[0;32m    329\u001b[0m         \u001b[0mself\u001b[0m\u001b[1;33m.\u001b[0m\u001b[0m_make_plot\u001b[0m\u001b[1;33m(\u001b[0m\u001b[1;33m)\u001b[0m\u001b[1;33m\u001b[0m\u001b[1;33m\u001b[0m\u001b[0m\n",
      "\u001b[1;32m~\\anaconda3\\lib\\site-packages\\pandas\\plotting\\_matplotlib\\core.py\u001b[0m in \u001b[0;36m_compute_plot_data\u001b[1;34m(self)\u001b[0m\n\u001b[0;32m    504\u001b[0m         \u001b[1;31m# no non-numeric frames or series allowed\u001b[0m\u001b[1;33m\u001b[0m\u001b[1;33m\u001b[0m\u001b[0m\n\u001b[0;32m    505\u001b[0m         \u001b[1;32mif\u001b[0m \u001b[0mis_empty\u001b[0m\u001b[1;33m:\u001b[0m\u001b[1;33m\u001b[0m\u001b[1;33m\u001b[0m\u001b[0m\n\u001b[1;32m--> 506\u001b[1;33m             \u001b[1;32mraise\u001b[0m \u001b[0mTypeError\u001b[0m\u001b[1;33m(\u001b[0m\u001b[1;34m\"no numeric data to plot\"\u001b[0m\u001b[1;33m)\u001b[0m\u001b[1;33m\u001b[0m\u001b[1;33m\u001b[0m\u001b[0m\n\u001b[0m\u001b[0;32m    507\u001b[0m \u001b[1;33m\u001b[0m\u001b[0m\n\u001b[0;32m    508\u001b[0m         \u001b[0mself\u001b[0m\u001b[1;33m.\u001b[0m\u001b[0mdata\u001b[0m \u001b[1;33m=\u001b[0m \u001b[0mnumeric_data\u001b[0m\u001b[1;33m.\u001b[0m\u001b[0mapply\u001b[0m\u001b[1;33m(\u001b[0m\u001b[0mself\u001b[0m\u001b[1;33m.\u001b[0m\u001b[0m_convert_to_ndarray\u001b[0m\u001b[1;33m)\u001b[0m\u001b[1;33m\u001b[0m\u001b[1;33m\u001b[0m\u001b[0m\n",
      "\u001b[1;31mTypeError\u001b[0m: no numeric data to plot"
     ]
    }
   ],
   "source": [
    "# Try to plot the Price column using plot()\n",
    "df1['Price'].plot(kind='hist')\n",
    "plt.xlabel('Area')\n",
    "plt.ylabel('Frequency')\n",
    "plt.title('Distribution of House Area')\n",
    "plt.show()"
   ]
  },
  {
   "cell_type": "markdown",
   "metadata": {
    "id": "Kf8ZZTUMB23h"
   },
   "source": [
    "Why didn't it work? Can you think of a solution?\n",
    "\n",
    "You might want to search for \"how to convert a pandas string column to numbers\".\n",
    "\n",
    "And if you're still stuck, check out this [Stack Overflow question and answer on turning a price column into integers](https://stackoverflow.com/questions/44469313/price-column-object-to-int-in-pandas).\n",
    "\n",
    "See how you can provide the example code there to the problem here."
   ]
  },
  {
   "cell_type": "code",
   "execution_count": 48,
   "metadata": {
    "id": "QYwMGsFCB23h"
   },
   "outputs": [
    {
     "name": "stdout",
     "output_type": "stream",
     "text": [
      "  Type of house Colour  Area (sqft)  Number of doors    Price\n",
      "0     apartment  White         1100                1   400000\n",
      "1        Duplex    Red          502                2   500000\n",
      "2     apartment   Blue         1225                2   700000\n",
      "3      bungalow  Black         1500                4  2200000\n",
      "4     Farmhouse  White         2020                3   350000\n",
      "5     apartment  Green         1115                1   450000\n",
      "6        duplex   Blue          550                2   750000\n",
      "7        duplex   Blue          530                2   700000\n",
      "8     Apartment  White         1200                1   625000\n",
      "9     farmhouse  White         2504                4   970000\n"
     ]
    }
   ],
   "source": [
    "# Remove the punctuation from price column\n",
    "import pandas as pd\n",
    "import string\n",
    "\n",
    "# Assuming house_sales is the DataFrame containing the \"price\" column\n",
    "\n",
    "# Define a function to remove punctuation\n",
    "def remove_punctuation(text):\n",
    "    return text.translate(str.maketrans('', '', string.punctuation))\n",
    "\n",
    "# Apply the remove_punctuation function to the \"price\" column\n",
    "df1['Price'] = df1['Price'].apply(remove_punctuation)\n",
    "\n",
    "# Print the modified DataFrame\n",
    "print(df1)\n"
   ]
  },
  {
   "cell_type": "code",
   "execution_count": 50,
   "metadata": {
    "id": "KrAT0LCSB23i"
   },
   "outputs": [
    {
     "name": "stdout",
     "output_type": "stream",
     "text": [
      "  Type of house Colour  Area (sqft)  Number of doors    Price\n",
      "0     apartment  White         1100                1   400000\n",
      "1        Duplex    Red          502                2   500000\n",
      "2     apartment   Blue         1225                2   700000\n",
      "3      bungalow  Black         1500                4  2200000\n",
      "4     Farmhouse  White         2020                3   350000\n",
      "5     apartment  Green         1115                1   450000\n",
      "6        duplex   Blue          550                2   750000\n",
      "7        duplex   Blue          530                2   700000\n",
      "8     Apartment  White         1200                1   625000\n",
      "9     farmhouse  White         2504                4   970000\n"
     ]
    },
    {
     "name": "stderr",
     "output_type": "stream",
     "text": [
      "C:\\Users\\Admin\\AppData\\Local\\Temp\\ipykernel_908\\404443711.py:5: FutureWarning: The default value of regex will change from True to False in a future version.\n",
      "  df1['Price'] = df1['Price'].str.replace(pattern, '')\n"
     ]
    }
   ],
   "source": [
    "# Check the changes to the price column\n",
    "pattern = r'[{}]'.format(string.punctuation)\n",
    "\n",
    "# Remove punctuation from the \"price\" column\n",
    "df1['Price'] = df1['Price'].str.replace(pattern, '')\n",
    "\n",
    "# Print the modified DataFrame\n",
    "print(df1)"
   ]
  },
  {
   "cell_type": "code",
   "execution_count": 51,
   "metadata": {
    "id": "38_ImTBsB23i"
   },
   "outputs": [
    {
     "name": "stdout",
     "output_type": "stream",
     "text": [
      "  Type of house Colour  Area (sqft)  Number of doors Price\n",
      "0     apartment  White         1100                1     4\n",
      "1        Duplex    Red          502                2     5\n",
      "2     apartment   Blue         1225                2     7\n",
      "3      bungalow  Black         1500                4    22\n",
      "4     Farmhouse  White         2020                3    35\n",
      "5     apartment  Green         1115                1    45\n",
      "6        duplex   Blue          550                2    75\n",
      "7        duplex   Blue          530                2     7\n",
      "8     Apartment  White         1200                1   625\n",
      "9     farmhouse  White         2504                4    97\n"
     ]
    }
   ],
   "source": [
    "# Remove the two extra zeros at the end of the price column\n",
    "\n",
    "\n",
    "df1['Price'] = df1['Price'].str.rstrip('0')\n",
    "\n",
    "\n",
    "print(df1)\n"
   ]
  },
  {
   "cell_type": "code",
   "execution_count": 52,
   "metadata": {
    "id": "CDtuvJmPB23i"
   },
   "outputs": [
    {
     "name": "stdout",
     "output_type": "stream",
     "text": [
      "0      4\n",
      "1      5\n",
      "2      7\n",
      "3     22\n",
      "4     35\n",
      "5     45\n",
      "6     75\n",
      "7      7\n",
      "8    625\n",
      "9     97\n",
      "Name: Price, dtype: object\n"
     ]
    }
   ],
   "source": [
    "# Check the changes to the Price column\n",
    "print(df1['Price'])\n"
   ]
  },
  {
   "cell_type": "code",
   "execution_count": 53,
   "metadata": {
    "id": "cnCwYvOBB23i"
   },
   "outputs": [
    {
     "name": "stdout",
     "output_type": "stream",
     "text": [
      "  Type of house Colour  Area (sqft)  Number of doors  Price\n",
      "0     apartment  White         1100                1      4\n",
      "1        Duplex    Red          502                2      5\n",
      "2     apartment   Blue         1225                2      7\n",
      "3      bungalow  Black         1500                4     22\n",
      "4     Farmhouse  White         2020                3     35\n",
      "5     apartment  Green         1115                1     45\n",
      "6        duplex   Blue          550                2     75\n",
      "7        duplex   Blue          530                2      7\n",
      "8     Apartment  White         1200                1    625\n",
      "9     farmhouse  White         2504                4     97\n"
     ]
    }
   ],
   "source": [
    "# Change the datatype of the Price column to integers\n",
    "df1['Price'] = df1['Price'].astype(int)\n",
    "print(df1)\n"
   ]
  },
  {
   "cell_type": "code",
   "execution_count": 54,
   "metadata": {
    "id": "agt7KAaDB23i"
   },
   "outputs": [
    {
     "name": "stdout",
     "output_type": "stream",
     "text": [
      "  Type of house Colour  Area (sqft)  Number of doors  Price\n",
      "0     apartment  White         1100                1      4\n",
      "1        duplex    Red          502                2      5\n",
      "2     apartment   Blue         1225                2      7\n",
      "3      bungalow  Black         1500                4     22\n",
      "4     farmhouse  White         2020                3     35\n",
      "5     apartment  Green         1115                1     45\n",
      "6        duplex   Blue          550                2     75\n",
      "7        duplex   Blue          530                2      7\n",
      "8     apartment  White         1200                1    625\n",
      "9     farmhouse  White         2504                4     97\n"
     ]
    }
   ],
   "source": [
    "# Lower the strings of the type of house column\n",
    "\n",
    "df1['Type of house'] = df1['Type of house'].str.lower()\n",
    "\n",
    "print(df1)\n"
   ]
  },
  {
   "cell_type": "markdown",
   "metadata": {
    "id": "SwC422NZB23i"
   },
   "source": [
    "If you check the house sales DataFrame, you'll notice the type of house column hasn't been lowered.\n",
    "\n",
    "How could you make these changes permanent?\n",
    "\n",
    "Try it out."
   ]
  },
  {
   "cell_type": "code",
   "execution_count": 55,
   "metadata": {
    "id": "f_9dCFKmB23s"
   },
   "outputs": [
    {
     "name": "stdout",
     "output_type": "stream",
     "text": [
      "  Type of house Colour  Area (sqft)  Number of doors  Price\n",
      "0     apartment  White         1100                1      4\n",
      "1        duplex    Red          502                2      5\n",
      "2     apartment   Blue         1225                2      7\n",
      "3      bungalow  Black         1500                4     22\n",
      "4     farmhouse  White         2020                3     35\n",
      "5     apartment  Green         1115                1     45\n",
      "6        duplex   Blue          550                2     75\n",
      "7        duplex   Blue          530                2      7\n",
      "8     apartment  White         1200                1    625\n",
      "9     farmhouse  White         2504                4     97\n"
     ]
    }
   ],
   "source": [
    "# Make lowering the case of the type of house column permanent\n",
    "df1['Type of house'] = df1['Type of house'].str.lower()\n",
    "\n",
    "print(df1)\n"
   ]
  },
  {
   "cell_type": "code",
   "execution_count": 56,
   "metadata": {
    "id": "30xkQfKBB23s"
   },
   "outputs": [
    {
     "name": "stdout",
     "output_type": "stream",
     "text": [
      "  Type of house Colour  Area (sqft)  Number of doors  Price\n",
      "0     apartment  White         1100                1      4\n",
      "1        duplex    Red          502                2      5\n",
      "2     apartment   Blue         1225                2      7\n",
      "3      bungalow  Black         1500                4     22\n",
      "4     farmhouse  White         2020                3     35\n",
      "5     apartment  Green         1115                1     45\n",
      "6        duplex   Blue          550                2     75\n",
      "7        duplex   Blue          530                2      7\n",
      "8     apartment  White         1200                1    625\n",
      "9     farmhouse  White         2504                4     97\n"
     ]
    }
   ],
   "source": [
    "# Check the house sales DataFrame\n",
    "print(df1)"
   ]
  },
  {
   "cell_type": "markdown",
   "metadata": {
    "id": "MOUyF0y0B23s"
   },
   "source": [
    "Notice how the type of house column stays lowered after reassigning.\n",
    "\n",
    "Now let's deal with missing data."
   ]
  },
  {
   "cell_type": "code",
   "execution_count": 57,
   "metadata": {
    "id": "5UF4mKrIB23t"
   },
   "outputs": [
    {
     "data": {
      "text/html": [
       "<div>\n",
       "<style scoped>\n",
       "    .dataframe tbody tr th:only-of-type {\n",
       "        vertical-align: middle;\n",
       "    }\n",
       "\n",
       "    .dataframe tbody tr th {\n",
       "        vertical-align: top;\n",
       "    }\n",
       "\n",
       "    .dataframe thead th {\n",
       "        text-align: right;\n",
       "    }\n",
       "</style>\n",
       "<table border=\"1\" class=\"dataframe\">\n",
       "  <thead>\n",
       "    <tr style=\"text-align: right;\">\n",
       "      <th></th>\n",
       "      <th>Type of house</th>\n",
       "      <th>Colour</th>\n",
       "      <th>Area (sqft)</th>\n",
       "      <th>Number of doors</th>\n",
       "      <th>Price</th>\n",
       "    </tr>\n",
       "  </thead>\n",
       "  <tbody>\n",
       "    <tr>\n",
       "      <th>0</th>\n",
       "      <td>apartment</td>\n",
       "      <td>White</td>\n",
       "      <td>1100.0</td>\n",
       "      <td>1.0</td>\n",
       "      <td>$4,000.00</td>\n",
       "    </tr>\n",
       "    <tr>\n",
       "      <th>1</th>\n",
       "      <td>duplex</td>\n",
       "      <td>Red</td>\n",
       "      <td>502.0</td>\n",
       "      <td>2.0</td>\n",
       "      <td>$5,000.00</td>\n",
       "    </tr>\n",
       "    <tr>\n",
       "      <th>2</th>\n",
       "      <td>apartment</td>\n",
       "      <td>Blue</td>\n",
       "      <td>NaN</td>\n",
       "      <td>2.0</td>\n",
       "      <td>$7,000.00</td>\n",
       "    </tr>\n",
       "    <tr>\n",
       "      <th>3</th>\n",
       "      <td>bungalow</td>\n",
       "      <td>Black</td>\n",
       "      <td>1500.0</td>\n",
       "      <td>4.0</td>\n",
       "      <td>$22,000.00</td>\n",
       "    </tr>\n",
       "    <tr>\n",
       "      <th>4</th>\n",
       "      <td>farmhouse</td>\n",
       "      <td>White</td>\n",
       "      <td>2020.0</td>\n",
       "      <td>3.0</td>\n",
       "      <td>$3,500.00</td>\n",
       "    </tr>\n",
       "    <tr>\n",
       "      <th>5</th>\n",
       "      <td>apartment</td>\n",
       "      <td>Green</td>\n",
       "      <td>NaN</td>\n",
       "      <td>1.0</td>\n",
       "      <td>$4,500.00</td>\n",
       "    </tr>\n",
       "    <tr>\n",
       "      <th>6</th>\n",
       "      <td>duplex</td>\n",
       "      <td>NaN</td>\n",
       "      <td>NaN</td>\n",
       "      <td>2.0</td>\n",
       "      <td>$7,500.00</td>\n",
       "    </tr>\n",
       "    <tr>\n",
       "      <th>7</th>\n",
       "      <td>duplex</td>\n",
       "      <td>Blue</td>\n",
       "      <td>NaN</td>\n",
       "      <td>2.0</td>\n",
       "      <td>$7,000.00</td>\n",
       "    </tr>\n",
       "    <tr>\n",
       "      <th>8</th>\n",
       "      <td>apartment</td>\n",
       "      <td>White</td>\n",
       "      <td>NaN</td>\n",
       "      <td>1.0</td>\n",
       "      <td>NaN</td>\n",
       "    </tr>\n",
       "    <tr>\n",
       "      <th>9</th>\n",
       "      <td>farmhouse</td>\n",
       "      <td>White</td>\n",
       "      <td>1200.0</td>\n",
       "      <td>NaN</td>\n",
       "      <td>NaN</td>\n",
       "    </tr>\n",
       "    <tr>\n",
       "      <th>10</th>\n",
       "      <td>NaN</td>\n",
       "      <td>White</td>\n",
       "      <td>2504.0</td>\n",
       "      <td>4.0</td>\n",
       "      <td>$7,500.00</td>\n",
       "    </tr>\n",
       "  </tbody>\n",
       "</table>\n",
       "</div>"
      ],
      "text/plain": [
       "   Type of house Colour  Area (sqft)  Number of doors       Price\n",
       "0      apartment  White       1100.0              1.0   $4,000.00\n",
       "1         duplex    Red        502.0              2.0   $5,000.00\n",
       "2      apartment   Blue          NaN              2.0   $7,000.00\n",
       "3       bungalow  Black       1500.0              4.0  $22,000.00\n",
       "4      farmhouse  White       2020.0              3.0   $3,500.00\n",
       "5      apartment  Green          NaN              1.0   $4,500.00\n",
       "6         duplex    NaN          NaN              2.0   $7,500.00\n",
       "7         duplex   Blue          NaN              2.0   $7,000.00\n",
       "8      apartment  White          NaN              1.0         NaN\n",
       "9      farmhouse  White       1200.0              NaN         NaN\n",
       "10           NaN  White       2504.0              4.0   $7,500.00"
      ]
     },
     "execution_count": 57,
     "metadata": {},
     "output_type": "execute_result"
    }
   ],
   "source": [
    "# Import the car sales DataFrame with missing data (\"../data/house-missing-data.csv\")\n",
    "df2=pd.read_csv('house-missing-data.csv')\n",
    "\n",
    "# Check out the new DataFrame\n",
    "df2\n"
   ]
  },
  {
   "cell_type": "markdown",
   "metadata": {
    "id": "gSIRwxZ7B23t"
   },
   "source": [
    "Notice the missing values are represented as `NaN` in pandas DataFrames.\n",
    "\n",
    "Let's try fill them."
   ]
  },
  {
   "cell_type": "code",
   "execution_count": 59,
   "metadata": {
    "id": "E2tNknklB23t"
   },
   "outputs": [
    {
     "name": "stdout",
     "output_type": "stream",
     "text": [
      "   Type of house Colour  Area (sqft)  Number of doors       Price\n",
      "0      apartment  White       1100.0              1.0   $4,000.00\n",
      "1         duplex    Red        502.0              2.0   $5,000.00\n",
      "2      apartment   Blue       1471.0              2.0   $7,000.00\n",
      "3       bungalow  Black       1500.0              4.0  $22,000.00\n",
      "4      farmhouse  White       2020.0              3.0   $3,500.00\n",
      "5      apartment  Green       1471.0              1.0   $4,500.00\n",
      "6         duplex    NaN       1471.0              2.0   $7,500.00\n",
      "7         duplex   Blue       1471.0              2.0   $7,000.00\n",
      "8      apartment  White       1471.0              1.0         NaN\n",
      "9      farmhouse  White       1200.0              NaN         NaN\n",
      "10           NaN  White       2504.0              4.0   $7,500.00\n"
     ]
    }
   ],
   "source": [
    "# Fill the area column missing values with the mean of the column inplace\n",
    "\n",
    "mean_area = df2['Area (sqft)'].mean()\n",
    "\n",
    "df2['Area (sqft)'].fillna(mean_area, inplace=True)\n",
    "\n",
    "print(df2)\n"
   ]
  },
  {
   "cell_type": "code",
   "execution_count": 60,
   "metadata": {
    "id": "B4PJPRryB23t"
   },
   "outputs": [
    {
     "data": {
      "text/html": [
       "<div>\n",
       "<style scoped>\n",
       "    .dataframe tbody tr th:only-of-type {\n",
       "        vertical-align: middle;\n",
       "    }\n",
       "\n",
       "    .dataframe tbody tr th {\n",
       "        vertical-align: top;\n",
       "    }\n",
       "\n",
       "    .dataframe thead th {\n",
       "        text-align: right;\n",
       "    }\n",
       "</style>\n",
       "<table border=\"1\" class=\"dataframe\">\n",
       "  <thead>\n",
       "    <tr style=\"text-align: right;\">\n",
       "      <th></th>\n",
       "      <th>Type of house</th>\n",
       "      <th>Colour</th>\n",
       "      <th>Area (sqft)</th>\n",
       "      <th>Number of doors</th>\n",
       "      <th>Price</th>\n",
       "    </tr>\n",
       "  </thead>\n",
       "  <tbody>\n",
       "    <tr>\n",
       "      <th>0</th>\n",
       "      <td>apartment</td>\n",
       "      <td>White</td>\n",
       "      <td>1100.0</td>\n",
       "      <td>1.0</td>\n",
       "      <td>$4,000.00</td>\n",
       "    </tr>\n",
       "    <tr>\n",
       "      <th>1</th>\n",
       "      <td>duplex</td>\n",
       "      <td>Red</td>\n",
       "      <td>502.0</td>\n",
       "      <td>2.0</td>\n",
       "      <td>$5,000.00</td>\n",
       "    </tr>\n",
       "    <tr>\n",
       "      <th>2</th>\n",
       "      <td>apartment</td>\n",
       "      <td>Blue</td>\n",
       "      <td>1471.0</td>\n",
       "      <td>2.0</td>\n",
       "      <td>$7,000.00</td>\n",
       "    </tr>\n",
       "    <tr>\n",
       "      <th>3</th>\n",
       "      <td>bungalow</td>\n",
       "      <td>Black</td>\n",
       "      <td>1500.0</td>\n",
       "      <td>4.0</td>\n",
       "      <td>$22,000.00</td>\n",
       "    </tr>\n",
       "    <tr>\n",
       "      <th>4</th>\n",
       "      <td>farmhouse</td>\n",
       "      <td>White</td>\n",
       "      <td>2020.0</td>\n",
       "      <td>3.0</td>\n",
       "      <td>$3,500.00</td>\n",
       "    </tr>\n",
       "    <tr>\n",
       "      <th>5</th>\n",
       "      <td>apartment</td>\n",
       "      <td>Green</td>\n",
       "      <td>1471.0</td>\n",
       "      <td>1.0</td>\n",
       "      <td>$4,500.00</td>\n",
       "    </tr>\n",
       "    <tr>\n",
       "      <th>6</th>\n",
       "      <td>duplex</td>\n",
       "      <td>NaN</td>\n",
       "      <td>1471.0</td>\n",
       "      <td>2.0</td>\n",
       "      <td>$7,500.00</td>\n",
       "    </tr>\n",
       "    <tr>\n",
       "      <th>7</th>\n",
       "      <td>duplex</td>\n",
       "      <td>Blue</td>\n",
       "      <td>1471.0</td>\n",
       "      <td>2.0</td>\n",
       "      <td>$7,000.00</td>\n",
       "    </tr>\n",
       "    <tr>\n",
       "      <th>8</th>\n",
       "      <td>apartment</td>\n",
       "      <td>White</td>\n",
       "      <td>1471.0</td>\n",
       "      <td>1.0</td>\n",
       "      <td>NaN</td>\n",
       "    </tr>\n",
       "    <tr>\n",
       "      <th>9</th>\n",
       "      <td>farmhouse</td>\n",
       "      <td>White</td>\n",
       "      <td>1200.0</td>\n",
       "      <td>NaN</td>\n",
       "      <td>NaN</td>\n",
       "    </tr>\n",
       "    <tr>\n",
       "      <th>10</th>\n",
       "      <td>NaN</td>\n",
       "      <td>White</td>\n",
       "      <td>2504.0</td>\n",
       "      <td>4.0</td>\n",
       "      <td>$7,500.00</td>\n",
       "    </tr>\n",
       "  </tbody>\n",
       "</table>\n",
       "</div>"
      ],
      "text/plain": [
       "   Type of house Colour  Area (sqft)  Number of doors       Price\n",
       "0      apartment  White       1100.0              1.0   $4,000.00\n",
       "1         duplex    Red        502.0              2.0   $5,000.00\n",
       "2      apartment   Blue       1471.0              2.0   $7,000.00\n",
       "3       bungalow  Black       1500.0              4.0  $22,000.00\n",
       "4      farmhouse  White       2020.0              3.0   $3,500.00\n",
       "5      apartment  Green       1471.0              1.0   $4,500.00\n",
       "6         duplex    NaN       1471.0              2.0   $7,500.00\n",
       "7         duplex   Blue       1471.0              2.0   $7,000.00\n",
       "8      apartment  White       1471.0              1.0         NaN\n",
       "9      farmhouse  White       1200.0              NaN         NaN\n",
       "10           NaN  White       2504.0              4.0   $7,500.00"
      ]
     },
     "execution_count": 60,
     "metadata": {},
     "output_type": "execute_result"
    }
   ],
   "source": [
    "# View the house sales missing DataFrame and verify the changes\n",
    "df2"
   ]
  },
  {
   "cell_type": "code",
   "execution_count": 61,
   "metadata": {
    "id": "sLpDKIMDB23t"
   },
   "outputs": [
    {
     "name": "stdout",
     "output_type": "stream",
     "text": [
      "  Type of house Colour  Area (sqft)  Number of doors       Price\n",
      "0     apartment  White       1100.0              1.0   $4,000.00\n",
      "1        duplex    Red        502.0              2.0   $5,000.00\n",
      "2     apartment   Blue       1471.0              2.0   $7,000.00\n",
      "3      bungalow  Black       1500.0              4.0  $22,000.00\n",
      "4     farmhouse  White       2020.0              3.0   $3,500.00\n",
      "5     apartment  Green       1471.0              1.0   $4,500.00\n",
      "7        duplex   Blue       1471.0              2.0   $7,000.00\n"
     ]
    }
   ],
   "source": [
    "# Remove the rest of the missing data inplace\n",
    "\n",
    "df2.dropna(inplace=True)\n",
    "\n",
    "# Print the modified DataFrame to verify the changes\n",
    "print(df2)\n"
   ]
  },
  {
   "cell_type": "code",
   "execution_count": 62,
   "metadata": {
    "id": "pr6tp8vJB23t"
   },
   "outputs": [
    {
     "name": "stdout",
     "output_type": "stream",
     "text": [
      "  Type of house Colour  Area (sqft)  Number of doors       Price\n",
      "0     apartment  White       1100.0              1.0   $4,000.00\n",
      "1        duplex    Red        502.0              2.0   $5,000.00\n",
      "2     apartment   Blue       1471.0              2.0   $7,000.00\n",
      "3      bungalow  Black       1500.0              4.0  $22,000.00\n",
      "4     farmhouse  White       2020.0              3.0   $3,500.00\n",
      "5     apartment  Green       1471.0              1.0   $4,500.00\n",
      "7        duplex   Blue       1471.0              2.0   $7,000.00\n"
     ]
    }
   ],
   "source": [
    "# Verify the missing values are removed by viewing the DataFrame\n",
    "df2.dropna(inplace=True)\n",
    "\n",
    "# Print the modified DataFrame to verify the changes\n",
    "print(df2)\n"
   ]
  },
  {
   "cell_type": "markdown",
   "metadata": {
    "id": "ChqVzScIB23u"
   },
   "source": [
    "We'll now start to add columns to our DataFrame."
   ]
  },
  {
   "cell_type": "code",
   "execution_count": 64,
   "metadata": {
    "id": "ejGgNg7ZB23u"
   },
   "outputs": [
    {
     "name": "stdout",
     "output_type": "stream",
     "text": [
      "  Type of house Colour  Area (sqft)  Number of doors       Price  \\\n",
      "0     apartment  White       1100.0              1.0   $4,000.00   \n",
      "1        duplex    Red        502.0              2.0   $5,000.00   \n",
      "2     apartment   Blue       1471.0              2.0   $7,000.00   \n",
      "3      bungalow  Black       1500.0              4.0  $22,000.00   \n",
      "4     farmhouse  White       2020.0              3.0   $3,500.00   \n",
      "5     apartment  Green       1471.0              1.0   $4,500.00   \n",
      "7        duplex   Blue       1471.0              2.0   $7,000.00   \n",
      "\n",
      "   Number of rooms  \n",
      "0                3  \n",
      "1                3  \n",
      "2                3  \n",
      "3                3  \n",
      "4                3  \n",
      "5                3  \n",
      "7                3  \n"
     ]
    }
   ],
   "source": [
    "# Create a \"Number of rooms\" column where every row has a value of 3\n",
    "\n",
    "df2['Number of rooms'] =3\n",
    "print(df2)\n"
   ]
  },
  {
   "cell_type": "code",
   "execution_count": 65,
   "metadata": {
    "id": "SPwZofutB23u"
   },
   "outputs": [
    {
     "name": "stdout",
     "output_type": "stream",
     "text": [
      "  Type of house Colour  Area (sqft)  Number of doors       Price  \\\n",
      "0     apartment  White       1100.0              1.0   $4,000.00   \n",
      "1        duplex    Red        502.0              2.0   $5,000.00   \n",
      "2     apartment   Blue       1471.0              2.0   $7,000.00   \n",
      "3      bungalow  Black       1500.0              4.0  $22,000.00   \n",
      "4     farmhouse  White       2020.0              3.0   $3,500.00   \n",
      "5     apartment  Green       1471.0              1.0   $4,500.00   \n",
      "7        duplex   Blue       1471.0              2.0   $7,000.00   \n",
      "\n",
      "   Number of rooms  Shops nearby  \n",
      "0                3             1  \n",
      "1                3             4  \n",
      "2                3             3  \n",
      "3                3             3  \n",
      "4                3             1  \n",
      "5                3             4  \n",
      "7                3             3  \n"
     ]
    }
   ],
   "source": [
    "# Create a column called \"Shops nearby\" with random values between 1 and 4\n",
    "# Remember: If you're doing it from a Python list, the list has to be the same length\n",
    "# as the DataFrame\n",
    "import random\n",
    "random_values = random.choices([1, 2, 3, 4], k=len(df2))\n",
    "df2['Shops nearby'] = random_values\n",
    "print(df2)\n",
    "\n"
   ]
  },
  {
   "cell_type": "code",
   "execution_count": 67,
   "metadata": {
    "id": "hcd2oetxB23u"
   },
   "outputs": [
    {
     "data": {
      "text/html": [
       "<div>\n",
       "<style scoped>\n",
       "    .dataframe tbody tr th:only-of-type {\n",
       "        vertical-align: middle;\n",
       "    }\n",
       "\n",
       "    .dataframe tbody tr th {\n",
       "        vertical-align: top;\n",
       "    }\n",
       "\n",
       "    .dataframe thead th {\n",
       "        text-align: right;\n",
       "    }\n",
       "</style>\n",
       "<table border=\"1\" class=\"dataframe\">\n",
       "  <thead>\n",
       "    <tr style=\"text-align: right;\">\n",
       "      <th></th>\n",
       "      <th>Type of house</th>\n",
       "      <th>Colour</th>\n",
       "      <th>Area (sqft)</th>\n",
       "      <th>Number of doors</th>\n",
       "      <th>Price</th>\n",
       "      <th>Number of rooms</th>\n",
       "    </tr>\n",
       "  </thead>\n",
       "  <tbody>\n",
       "    <tr>\n",
       "      <th>0</th>\n",
       "      <td>apartment</td>\n",
       "      <td>White</td>\n",
       "      <td>1100.0</td>\n",
       "      <td>1.0</td>\n",
       "      <td>$4,000.00</td>\n",
       "      <td>3</td>\n",
       "    </tr>\n",
       "    <tr>\n",
       "      <th>1</th>\n",
       "      <td>duplex</td>\n",
       "      <td>Red</td>\n",
       "      <td>502.0</td>\n",
       "      <td>2.0</td>\n",
       "      <td>$5,000.00</td>\n",
       "      <td>3</td>\n",
       "    </tr>\n",
       "    <tr>\n",
       "      <th>2</th>\n",
       "      <td>apartment</td>\n",
       "      <td>Blue</td>\n",
       "      <td>1471.0</td>\n",
       "      <td>2.0</td>\n",
       "      <td>$7,000.00</td>\n",
       "      <td>3</td>\n",
       "    </tr>\n",
       "    <tr>\n",
       "      <th>3</th>\n",
       "      <td>bungalow</td>\n",
       "      <td>Black</td>\n",
       "      <td>1500.0</td>\n",
       "      <td>4.0</td>\n",
       "      <td>$22,000.00</td>\n",
       "      <td>3</td>\n",
       "    </tr>\n",
       "    <tr>\n",
       "      <th>4</th>\n",
       "      <td>farmhouse</td>\n",
       "      <td>White</td>\n",
       "      <td>2020.0</td>\n",
       "      <td>3.0</td>\n",
       "      <td>$3,500.00</td>\n",
       "      <td>3</td>\n",
       "    </tr>\n",
       "    <tr>\n",
       "      <th>5</th>\n",
       "      <td>apartment</td>\n",
       "      <td>Green</td>\n",
       "      <td>1471.0</td>\n",
       "      <td>1.0</td>\n",
       "      <td>$4,500.00</td>\n",
       "      <td>3</td>\n",
       "    </tr>\n",
       "    <tr>\n",
       "      <th>7</th>\n",
       "      <td>duplex</td>\n",
       "      <td>Blue</td>\n",
       "      <td>1471.0</td>\n",
       "      <td>2.0</td>\n",
       "      <td>$7,000.00</td>\n",
       "      <td>3</td>\n",
       "    </tr>\n",
       "  </tbody>\n",
       "</table>\n",
       "</div>"
      ],
      "text/plain": [
       "  Type of house Colour  Area (sqft)  Number of doors       Price  \\\n",
       "0     apartment  White       1100.0              1.0   $4,000.00   \n",
       "1        duplex    Red        502.0              2.0   $5,000.00   \n",
       "2     apartment   Blue       1471.0              2.0   $7,000.00   \n",
       "3      bungalow  Black       1500.0              4.0  $22,000.00   \n",
       "4     farmhouse  White       2020.0              3.0   $3,500.00   \n",
       "5     apartment  Green       1471.0              1.0   $4,500.00   \n",
       "7        duplex   Blue       1471.0              2.0   $7,000.00   \n",
       "\n",
       "   Number of rooms  \n",
       "0                3  \n",
       "1                3  \n",
       "2                3  \n",
       "3                3  \n",
       "4                3  \n",
       "5                3  \n",
       "7                3  "
      ]
     },
     "execution_count": 67,
     "metadata": {},
     "output_type": "execute_result"
    }
   ],
   "source": [
    "# Remove the last column you added using .drop()\n",
    "df2.drop('Shops nearby',axis=1)"
   ]
  },
  {
   "cell_type": "code",
   "execution_count": 68,
   "metadata": {
    "id": "9yqnqkJPB23u"
   },
   "outputs": [
    {
     "name": "stdout",
     "output_type": "stream",
     "text": [
      "  Type of house Colour  Area (sqft)  Number of doors       Price  \\\n",
      "1        duplex    Red        502.0              2.0   $5,000.00   \n",
      "7        duplex   Blue       1471.0              2.0   $7,000.00   \n",
      "5     apartment  Green       1471.0              1.0   $4,500.00   \n",
      "0     apartment  White       1100.0              1.0   $4,000.00   \n",
      "3      bungalow  Black       1500.0              4.0  $22,000.00   \n",
      "4     farmhouse  White       2020.0              3.0   $3,500.00   \n",
      "2     apartment   Blue       1471.0              2.0   $7,000.00   \n",
      "\n",
      "   Number of rooms  Shops nearby  \n",
      "1                3             4  \n",
      "7                3             3  \n",
      "5                3             4  \n",
      "0                3             1  \n",
      "3                3             3  \n",
      "4                3             1  \n",
      "2                3             3  \n"
     ]
    }
   ],
   "source": [
    "# Shuffle the DataFrame using sample() with the frac parameter set to 1\n",
    "# Save the the shuffled DataFrame to a new variable\n",
    "shuffled_df = df2.sample(frac=1)\n",
    "print(shuffled_df)\n"
   ]
  },
  {
   "cell_type": "markdown",
   "metadata": {
    "id": "1x_Cj1U7B23v"
   },
   "source": [
    "Notice how the index numbers get moved around. The [`sample()`](https://pandas.pydata.org/pandas-docs/stable/reference/api/pandas.DataFrame.sample.html) function is a great way to get random samples from your DataFrame. It's also another great way to shuffle the rows by setting `frac=1`."
   ]
  },
  {
   "cell_type": "code",
   "execution_count": 69,
   "metadata": {
    "id": "6Os342-WB23v"
   },
   "outputs": [
    {
     "name": "stdout",
     "output_type": "stream",
     "text": [
      "  Type of house Colour  Area (sqft)  Number of doors       Price  \\\n",
      "0        duplex    Red        502.0              2.0   $5,000.00   \n",
      "1        duplex   Blue       1471.0              2.0   $7,000.00   \n",
      "2     apartment  Green       1471.0              1.0   $4,500.00   \n",
      "3     apartment  White       1100.0              1.0   $4,000.00   \n",
      "4      bungalow  Black       1500.0              4.0  $22,000.00   \n",
      "5     farmhouse  White       2020.0              3.0   $3,500.00   \n",
      "6     apartment   Blue       1471.0              2.0   $7,000.00   \n",
      "\n",
      "   Number of rooms  Shops nearby  \n",
      "0                3             4  \n",
      "1                3             3  \n",
      "2                3             4  \n",
      "3                3             1  \n",
      "4                3             3  \n",
      "5                3             1  \n",
      "6                3             3  \n"
     ]
    }
   ],
   "source": [
    "# Reset the indexes of the shuffled DataFrame\n",
    "shuffled_df.reset_index(drop=True, inplace=True)\n",
    "\n",
    "print(shuffled_df)\n"
   ]
  },
  {
   "cell_type": "markdown",
   "metadata": {
    "id": "MH79ZyArB23v"
   },
   "source": [
    "Notice the index numbers have been changed to have order (start from 0)."
   ]
  },
  {
   "cell_type": "code",
   "execution_count": 72,
   "metadata": {
    "id": "MxRZ7Q90B23v"
   },
   "outputs": [
    {
     "name": "stdout",
     "output_type": "stream",
     "text": [
      "  Type of house Colour  Area (sqft)  Number of doors       Price  \\\n",
      "0        duplex    Red    46.637306              2.0   $5,000.00   \n",
      "1        duplex   Blue   136.660313              2.0   $7,000.00   \n",
      "2     apartment  Green   136.660313              1.0   $4,500.00   \n",
      "3     apartment  White   102.193300              1.0   $4,000.00   \n",
      "4      bungalow  Black   139.354500              4.0  $22,000.00   \n",
      "5     farmhouse  White   187.664060              3.0   $3,500.00   \n",
      "6     apartment   Blue   136.660313              2.0   $7,000.00   \n",
      "\n",
      "   Number of rooms  Shops nearby  \n",
      "0                3             4  \n",
      "1                3             3  \n",
      "2                3             4  \n",
      "3                3             1  \n",
      "4                3             3  \n",
      "5                3             1  \n",
      "6                3             3  \n"
     ]
    }
   ],
   "source": [
    "# Change the area values from sqft to sqm(squared metres) using a Lambda function\n",
    "# Then view the DataFrame\n",
    "\n",
    "shuffled_df['Area (sqft)'] = shuffled_df['Area (sqft)'].apply(lambda x: x * 0.092903)  \n",
    "\n",
    "print(shuffled_df)\n"
   ]
  },
  {
   "cell_type": "code",
   "execution_count": 73,
   "metadata": {
    "id": "m5y4DQ7MB23w"
   },
   "outputs": [
    {
     "name": "stdout",
     "output_type": "stream",
     "text": [
      "  Type of house Colour  Area (sqft)  Number of doors       Price  \\\n",
      "0        duplex    Red    46.637306              2.0   $5,000.00   \n",
      "1        duplex   Blue   136.660313              2.0   $7,000.00   \n",
      "2     apartment  Green   136.660313              1.0   $4,500.00   \n",
      "3     apartment  White   102.193300              1.0   $4,000.00   \n",
      "4      bungalow  Black   139.354500              4.0  $22,000.00   \n",
      "5     farmhouse  White   187.664060              3.0   $3,500.00   \n",
      "6     apartment   Blue   136.660313              2.0   $7,000.00   \n",
      "\n",
      "   Number of rooms  Shops nearby  \n",
      "0                3             4  \n",
      "1                3             3  \n",
      "2                3             4  \n",
      "3                3             1  \n",
      "4                3             3  \n",
      "5                3             1  \n",
      "6                3             3  \n"
     ]
    }
   ],
   "source": [
    "# Change the title of the Area(sqft) to represent metres\n",
    "\n",
    "shuffled_df.rename(columns={'Area(sqft)': 'Area(sqm)'}, inplace=True)\n",
    "\n",
    "print(shuffled_df)\n"
   ]
  }
 ],
 "metadata": {
  "colab": {
   "provenance": []
  },
  "kernelspec": {
   "display_name": "Python 3 (ipykernel)",
   "language": "python",
   "name": "python3"
  },
  "language_info": {
   "codemirror_mode": {
    "name": "ipython",
    "version": 3
   },
   "file_extension": ".py",
   "mimetype": "text/x-python",
   "name": "python",
   "nbconvert_exporter": "python",
   "pygments_lexer": "ipython3",
   "version": "3.9.13"
  }
 },
 "nbformat": 4,
 "nbformat_minor": 1
}
